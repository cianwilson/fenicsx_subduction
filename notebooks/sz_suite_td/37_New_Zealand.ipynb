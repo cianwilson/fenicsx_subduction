{
 "cells": [
  {
   "cell_type": "markdown",
   "id": "edf2fb7b-ac53-4d67-8fad-4f94f62adb7d",
   "metadata": {},
   "source": [
    "# 37 New Zealand\n",
    "\n",
    "Authors: Cameron Seebeck, Cian Wilson"
   ]
  },
  {
   "cell_type": "markdown",
   "id": "c72ce8e7-e84b-4f27-98d6-2b94abe3e60f",
   "metadata": {},
   "source": [
    "## Time-dependent implementation"
   ]
  },
  {
   "cell_type": "markdown",
   "id": "6e34c38f-5d19-4741-a5f2-03db72ace774",
   "metadata": {},
   "source": [
    "### Preamble"
   ]
  },
  {
   "cell_type": "markdown",
   "id": "bd71100f-6a94-4cbc-9d19-6be4947269db",
   "metadata": {},
   "source": [
    "Set some path information."
   ]
  },
  {
   "cell_type": "code",
   "execution_count": null,
   "id": "a0a18160-c2ea-4c8b-b7dd-aad8ffc0f93c",
   "metadata": {},
   "outputs": [],
   "source": [
    "import sys, os\n",
    "basedir = ''\n",
    "if \"__file__\" in globals(): basedir = os.path.dirname(__file__)\n",
    "sys.path.append(os.path.join(basedir, os.path.pardir))\n",
    "sys.path.append(os.path.join(basedir, os.path.pardir, os.path.pardir, 'python'))"
   ]
  },
  {
   "cell_type": "markdown",
   "id": "0d485e8c-03d6-4828-868b-815f5b87647b",
   "metadata": {},
   "source": [
    "Loading everything we need from `sz_problem` and also set our default plotting and output preferences."
   ]
  },
  {
   "cell_type": "code",
   "execution_count": null,
   "id": "ab44bc2a-31ac-45b3-9d32-165412442cd1",
   "metadata": {},
   "outputs": [],
   "source": [
    "import utils\n",
    "from sz_base import allsz_params\n",
    "from sz_slab import create_slab, plot_slab\n",
    "from sz_geometry import create_sz_geometry\n",
    "from sz_problem import SubductionProblem\n",
    "import numpy as np\n",
    "import dolfinx as df\n",
    "import pyvista as pv\n",
    "if __name__ == \"__main__\" and \"__file__\" in globals():\n",
    "    pv.OFF_SCREEN = True\n",
    "import pathlib\n",
    "output_folder = pathlib.Path(os.path.join(basedir, \"output\"))\n",
    "output_folder.mkdir(exist_ok=True, parents=True)\n",
    "import hashlib\n",
    "import zipfile\n",
    "import requests"
   ]
  },
  {
   "cell_type": "markdown",
   "id": "02e4f30c-6b58-48dd-9c04-5022f9519635",
   "metadata": {},
   "source": [
    "### Parameters"
   ]
  },
  {
   "cell_type": "markdown",
   "id": "d4aa0164-4000-4311-b600-77501223c4df",
   "metadata": {},
   "source": [
    "We first select the name and resolution scale, `resscale` and target Courant number `cfl` of the model.\n",
    "\n",
    "```{admonition} Resolution\n",
    "By default the resolution (both spatial and temporal) is low to allow for a quick runtime and smaller website size.  If sufficient computational resources are available set a lower `resscale` and a lower `cfl` to get higher spatial and temporal resolutions respectively. This is necessary to get results with sufficient accuracy for scientific interpretation.\n",
    "```\n"
   ]
  },
  {
   "cell_type": "code",
   "execution_count": null,
   "id": "946b6f81-6a3e-4494-b6c5-1bb3bbe400c8",
   "metadata": {},
   "outputs": [],
   "source": [
    "name = \"37_New_Zealand\"\n",
    "resscale = 3.0\n",
    "cfl      = 3.0"
   ]
  },
  {
   "cell_type": "markdown",
   "id": "46a62851-8ef7-4773-8800-ca2ec15dde5b",
   "metadata": {},
   "source": [
    "Then load the remaining parameters from the global suite."
   ]
  },
  {
   "cell_type": "code",
   "execution_count": null,
   "id": "330be131-1e35-4bed-85a6-f6652791fac7",
   "metadata": {},
   "outputs": [],
   "source": [
    "szdict = allsz_params[name]\n",
    "print(\"{}:\".format(name))\n",
    "print(\"{:<20} {:<10}\".format('Key','Value'))\n",
    "print(\"-\"*85)\n",
    "for k, v in allsz_params[name].items():\n",
    "    if v is not None and k not in ['z0', 'z15']: print(\"{:<20} {}\".format(k, v))"
   ]
  },
  {
   "cell_type": "markdown",
   "id": "75685a8a-0a25-4947-91fd-a4814476623b",
   "metadata": {},
   "source": [
    "Any of these can be modified in the dictionary.\n",
    "\n",
    "Several additional parameters can be modified, for details see the documentation for the `SubductionProblem` class."
   ]
  },
  {
   "cell_type": "code",
   "execution_count": null,
   "id": "2581d393-7c81-461b-9a6b-1dd6b0e36988",
   "metadata": {},
   "outputs": [],
   "source": [
    "if __name__ == \"__main__\" and \"__file__\" not in globals():\n",
    "    SubductionProblem?"
   ]
  },
  {
   "cell_type": "markdown",
   "id": "dcec54d6-5527-44f7-8a3e-5d1550963c00",
   "metadata": {},
   "source": [
    "The `if __name__ == \"__main__\" and \"__file__\" not in globals():` logic above is only necessary to make sure that this only runs in the Jupyter notebook version of this code and not the python version.  It is not generally necessary when getting the docstring of a function or class in Jupyter."
   ]
  },
  {
   "cell_type": "markdown",
   "id": "c63ccf05-4716-4c43-a392-b7618ca52b29",
   "metadata": {},
   "source": [
    "### Setup"
   ]
  },
  {
   "cell_type": "markdown",
   "id": "febc0ffe-cd65-4b35-94cc-56f8f401972a",
   "metadata": {},
   "source": [
    "Setup a slab."
   ]
  },
  {
   "cell_type": "code",
   "execution_count": null,
   "id": "f5af1994-fb1a-461f-8299-865ac2dccbbb",
   "metadata": {},
   "outputs": [],
   "source": [
    "slab = create_slab(szdict['xs'], szdict['ys'], resscale, szdict['lc_depth'])\n",
    "_ = plot_slab(slab)"
   ]
  },
  {
   "cell_type": "markdown",
   "id": "dcffbab7-c8d8-419a-a24a-69c78c79e5b5",
   "metadata": {},
   "source": [
    "Create the subduction zome geometry around the slab."
   ]
  },
  {
   "cell_type": "code",
   "execution_count": null,
   "id": "fe6670aa-5bc4-4dc0-aad2-be3afbf4d1a6",
   "metadata": {},
   "outputs": [],
   "source": [
    "geom = create_sz_geometry(slab, resscale, szdict['sztype'], szdict['io_depth'], szdict['extra_width'], \n",
    "                             szdict['coast_distance'], szdict['lc_depth'], szdict['uc_depth'])\n",
    "_ = geom.plot()"
   ]
  },
  {
   "cell_type": "markdown",
   "id": "c00d7986-15ca-4175-8ecb-3807ad8efe29",
   "metadata": {},
   "source": [
    "Finally, declare the `SubductionZone` problem class using the dictionary of parameters."
   ]
  },
  {
   "cell_type": "code",
   "execution_count": null,
   "id": "dd838a93-f04d-4df8-b95d-6687d241fa9f",
   "metadata": {},
   "outputs": [],
   "source": [
    "sz = SubductionProblem(geom, **szdict)"
   ]
  },
  {
   "cell_type": "markdown",
   "id": "7359d454-d54b-4996-a2c5-c8606169e821",
   "metadata": {},
   "source": [
    "### Solve"
   ]
  },
  {
   "cell_type": "markdown",
   "id": "9ee393dc-eae4-411b-8e64-545f841c93ff",
   "metadata": {},
   "source": [
    "Let's first set up a gif of the temperature."
   ]
  },
  {
   "cell_type": "code",
   "execution_count": null,
   "id": "fa578681-6493-479a-8abb-0e2399a3ae76",
   "metadata": {},
   "outputs": [],
   "source": [
    "fps = 5\n",
    "plotter = pv.Plotter(notebook=False, off_screen=True)\n",
    "utils.plot_scalar(sz.T_i, plotter=plotter, scale=sz.T0, gather=True, cmap='coolwarm', clim=[0.0, sz.Tm*sz.T0], scalar_bar_args={'title': 'Temperature (deg C)', 'bold':True})\n",
    "utils.plot_geometry(geom, plotter=plotter, color='green', width=2)\n",
    "utils.plot_couplingdepth(slab, plotter=plotter, render_points_as_spheres=True, point_size=10.0, color='green')\n",
    "plotter.open_gif( str(output_folder / \"{}_td_solution_resscale_{:.2f}_cfl_{:.2f}.gif\".format(name, resscale, cfl,)), fps=fps)"
   ]
  },
  {
   "cell_type": "markdown",
   "id": "6bb953c1-a38d-4374-b0d1-da14591d5eff",
   "metadata": {},
   "source": [
    "Solve using a dislocation creep rheology."
   ]
  },
  {
   "cell_type": "code",
   "execution_count": null,
   "id": "c0116ae6-d47f-4bef-a0d5-efca3c42c20a",
   "metadata": {},
   "outputs": [],
   "source": [
    "# Select the timestep based on the approximate target Courant number\n",
    "dt = cfl*resscale/szdict['Vs']\n",
    "# Reduce the timestep to get an integer number of timesteps\n",
    "dt = szdict['As']/np.ceil(szdict['As']/dt)\n",
    "sz.solve_timedependent_dislocationcreep(szdict['As'], dt, theta=0.5, rtol=1.e-1, verbosity=1, plotter=plotter)\n",
    "plotter.close()"
   ]
  },
  {
   "cell_type": "markdown",
   "id": "aff5b041-fb04-4204-acbd-96feef460830",
   "metadata": {},
   "source": [
    "### Plot"
   ]
  },
  {
   "cell_type": "markdown",
   "id": "88d69eb5-ccee-429a-a623-088a075a6954",
   "metadata": {},
   "source": [
    "Plot the solution."
   ]
  },
  {
   "cell_type": "code",
   "execution_count": null,
   "id": "0f820a3e-50e5-4b70-8961-54a00a0229a9",
   "metadata": {},
   "outputs": [],
   "source": [
    "plotter = pv.Plotter()\n",
    "utils.plot_scalar(sz.T_i, plotter=plotter, scale=sz.T0, gather=True, cmap='coolwarm', scalar_bar_args={'title': 'Temperature (deg C)', 'bold':True})\n",
    "utils.plot_vector_glyphs(sz.vw_i, plotter=plotter, gather=True, factor=0.1, color='k', scale=utils.mps_to_mmpyr(sz.v0))\n",
    "utils.plot_vector_glyphs(sz.vs_i, plotter=plotter, gather=True, factor=0.1, color='k', scale=utils.mps_to_mmpyr(sz.v0))\n",
    "utils.plot_geometry(geom, plotter=plotter, color='green', width=2)\n",
    "utils.plot_couplingdepth(slab, plotter=plotter, render_points_as_spheres=True, point_size=10.0, color='green')\n",
    "utils.plot_show(plotter)\n",
    "utils.plot_save(plotter, output_folder / \"{}_td_solution_resscale_{:.2f}_cfl_{:.2f}.png\".format(name, resscale, cfl,))"
   ]
  },
  {
   "cell_type": "markdown",
   "id": "c5e4253b-31a2-41f2-8836-f072f8814531",
   "metadata": {},
   "source": [
    "Save it to disk so that it can be examined with other visualization software (e.g. [Paraview](https://www.paraview.org/))."
   ]
  },
  {
   "cell_type": "code",
   "execution_count": null,
   "id": "d4c6a8f4-25a9-474e-8c74-68701987d42b",
   "metadata": {},
   "outputs": [],
   "source": [
    "filename = output_folder / \"{}_td_solution_resscale_{:.2f}_cfl_{:.2f}.bp\".format(name, resscale, cfl,)\n",
    "with df.io.VTXWriter(sz.mesh.comm, filename, [sz.T_i, sz.vs_i, sz.vw_i]) as vtx:\n",
    "    vtx.write(0.0)\n",
    "# zip the .bp folder so that it can be downloaded from Jupyter lab\n",
    "if __name__ == \"__main__\" and \"__file__\" not in globals():\n",
    "    zipfilename = filename.with_suffix(\".zip\")\n",
    "    !zip -r $zipfilename $filename"
   ]
  },
  {
   "cell_type": "markdown",
   "id": "828bf12a-88af-4755-8888-fccac8213278",
   "metadata": {},
   "source": [
    "## Comparison"
   ]
  },
  {
   "cell_type": "markdown",
   "id": "3b85397f-de65-4915-bc1e-089ac8120372",
   "metadata": {},
   "source": [
    "Compare to the published result from [Wilson & van Keken, PEPS, 2023 (II)](http://dx.doi.org/10.1186/s40645-023-00588-6) and [van Keken & Wilson, PEPS, 2023 (III)](https://doi.org/10.1186/s40645-023-00589-5).  The original models used in these papers are also available as open-source repositories on [github](https://github.com/cianwilson/vankeken_wilson_peps_2023) and [zenodo](https://doi.org/10.5281/zenodo.7843967).\n",
    "\n",
    "First download the minimal necessary data from zenodo and check it is the right version."
   ]
  },
  {
   "cell_type": "code",
   "execution_count": null,
   "id": "607acc4b-2e34-4761-972f-15df35b90b08",
   "metadata": {},
   "outputs": [],
   "source": [
    "zipfilename = pathlib.Path(os.path.join(basedir, os.path.pardir, os.path.pardir, \"data\", \"vankeken_wilson_peps_2023_TF_lowres_minimal.zip\"))\n",
    "if not zipfilename.is_file():\n",
    "    zipfileurl = 'https://zenodo.org/records/13234021/files/vankeken_wilson_peps_2023_TF_lowres_minimal.zip'\n",
    "    r = requests.get(zipfileurl, allow_redirects=True)\n",
    "    open(zipfilename, 'wb').write(r.content)\n",
    "assert hashlib.md5(open(zipfilename, 'rb').read()).hexdigest() == 'a8eca6220f9bee091e41a680d502fe0d'"
   ]
  },
  {
   "cell_type": "code",
   "execution_count": null,
   "id": "90ddd8f9-dc97-45ce-af5f-ea4e8d2edd2b",
   "metadata": {},
   "outputs": [],
   "source": [
    "tffilename = os.path.join('vankeken_wilson_peps_2023_TF_lowres_minimal', 'sz_suite_td', szdict['dirname']+'_minres_2.00_cfl_2.00.vtu')\n",
    "tffilepath = os.path.join(os.pardir, os.pardir, 'data')\n",
    "with zipfile.ZipFile(zipfilename, 'r') as z:\n",
    "    z.extract(tffilename, path=tffilepath)"
   ]
  },
  {
   "cell_type": "code",
   "execution_count": null,
   "id": "bad57643-20c0-4317-b96d-c6b821731b1e",
   "metadata": {},
   "outputs": [],
   "source": [
    "fxgrid = utils.grids_scalar(sz.T_i)[0]\n",
    "\n",
    "tfgrid = pv.get_reader(os.path.join(tffilepath, tffilename)).read()\n",
    "\n",
    "diffgrid = utils.pv_diff(fxgrid, tfgrid, field_name_map={'T':'Temperature::PotentialTemperature'}, pass_point_data=True)"
   ]
  },
  {
   "cell_type": "code",
   "execution_count": null,
   "id": "b30104b5-db81-4f91-82ee-955f7c653239",
   "metadata": {},
   "outputs": [],
   "source": [
    "diffgrid.set_active_scalars('T')\n",
    "plotter_diff = pv.Plotter()\n",
    "clim = None\n",
    "plotter_diff.add_mesh(diffgrid, cmap='coolwarm', clim=clim, scalar_bar_args={'title': 'Temperature Difference (deg C)', 'bold':True})\n",
    "utils.plot_geometry(geom, plotter=plotter_diff, color='green', width=2)\n",
    "utils.plot_couplingdepth(slab, plotter=plotter_diff, render_points_as_spheres=True, point_size=5.0, color='green')\n",
    "plotter_diff.enable_parallel_projection()\n",
    "plotter_diff.view_xy()\n",
    "plotter_diff.show()"
   ]
  },
  {
   "cell_type": "code",
   "execution_count": null,
   "id": "4eff7c15-8431-4e84-a595-c3ad57979c5a",
   "metadata": {},
   "outputs": [],
   "source": [
    "integrated_data = diffgrid.integrate_data()\n",
    "error = integrated_data['T'][0]/integrated_data['Area'][0]\n",
    "print(\"Average error = {}\".format(error,))\n",
    "assert np.abs(error) < 5"
   ]
  },
  {
   "cell_type": "markdown",
   "id": "86c47632-fd61-4855-80e6-fbfca696407a",
   "metadata": {},
   "source": [
    "## Finish up"
   ]
  },
  {
   "cell_type": "markdown",
   "id": "6c0fe733-7adc-4069-bf1e-9e086715b7f5",
   "metadata": {},
   "source": [
    "Convert this notebook to a python script (making sure to save first)"
   ]
  },
  {
   "cell_type": "code",
   "execution_count": null,
   "id": "7998f2f4-7572-41db-8800-c0dd4b6bcb3a",
   "metadata": {},
   "outputs": [],
   "source": [
    "if __name__ == \"__main__\" and \"__file__\" not in globals():\n",
    "    from ipylab import JupyterFrontEnd\n",
    "    app = JupyterFrontEnd()\n",
    "    app.commands.execute('docmanager:save')\n",
    "    !jupyter nbconvert --NbConvertApp.export_format=script --ClearOutputPreprocessor.enabled=True 37_New_Zealand.ipynb"
   ]
  },
  {
   "cell_type": "code",
   "execution_count": null,
   "id": "81a9fc5f-323c-41c0-8ff0-d3f6bc7205d6",
   "metadata": {},
   "outputs": [],
   "source": []
  }
 ],
 "metadata": {
  "kernelspec": {
   "display_name": "Python 3 (ipykernel)",
   "language": "python",
   "name": "python3"
  },
  "language_info": {
   "codemirror_mode": {
    "name": "ipython",
    "version": 3
   },
   "file_extension": ".py",
   "mimetype": "text/x-python",
   "name": "python",
   "nbconvert_exporter": "python",
   "pygments_lexer": "ipython3",
   "version": "3.10.12"
  }
 },
 "nbformat": 4,
 "nbformat_minor": 5
}
