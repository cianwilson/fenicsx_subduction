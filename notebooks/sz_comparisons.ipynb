{
 "cells": [
  {
   "cell_type": "code",
   "execution_count": null,
   "id": "69bbd951-76a9-4457-86d6-2992d3bd04b9",
   "metadata": {},
   "outputs": [],
   "source": [
    "import sys, os\n",
    "basedir = ''\n",
    "if \"__file__\" in globals(): basedir = os.path.dirname(__file__)\n",
    "sys.path.append(os.path.join(basedir, os.path.pardir, 'python'))"
   ]
  },
  {
   "cell_type": "markdown",
   "id": "dfaeacdb-2473-4302-866b-88045d7e1f53",
   "metadata": {},
   "source": [
    "Then load everything we need from `sz_problem` and also set our default plotting preferences."
   ]
  },
  {
   "cell_type": "code",
   "execution_count": null,
   "id": "ec681e2c-9083-4879-8d67-cac934984621",
   "metadata": {},
   "outputs": [],
   "source": [
    "import utils\n",
    "from sz_base import default_params, allsz_params\n",
    "from sz_slab import create_slab\n",
    "from sz_geometry import create_sz_geometry\n",
    "from sz_problem import SubductionProblem, plot_slab_temperatures\n",
    "import pyvista as pv\n",
    "import geometry as geo\n",
    "import utils\n",
    "from mpi4py import MPI\n",
    "import dolfinx as df\n",
    "import dolfinx.fem.petsc\n",
    "import numpy as np\n",
    "import scipy as sp\n",
    "import ufl\n",
    "import basix.ufl as bu\n",
    "import matplotlib.pyplot as pl\n",
    "import copy\n",
    "import pyvista as pv\n",
    "if __name__ == \"__main__\" and \"__file__\" in globals():\n",
    "    pv.OFF_SCREEN = True\n",
    "import pathlib\n",
    "output_folder = pathlib.Path(os.path.join(basedir, \"output\"))\n",
    "output_folder.mkdir(exist_ok=True, parents=True)"
   ]
  },
  {
   "cell_type": "code",
   "execution_count": null,
   "id": "845a1148-229a-4092-82d8-00287c3cd4cc",
   "metadata": {},
   "outputs": [],
   "source": [
    "resscale = 5.0\n",
    "xs = [0.0, 140.0, 240.0, 400.0]\n",
    "ys = [0.0, -70.0, -120.0, -200.0]\n",
    "lc_depth = 40\n",
    "uc_depth = 15\n",
    "coast_distance = 0\n",
    "extra_width = 40\n",
    "sztype = 'continental'\n",
    "io_depth_1 = 154 # change to 154 for (at least) case 2\n",
    "A      = 100.0      # age of subducting slab (Myr)\n",
    "qs     = 0.065      # surface heat flux (W/m^2)\n",
    "Vs     = 100.0      # slab speed (mm/yr)\n",
    "\n",
    "slab = create_slab(xs, ys, resscale, lc_depth)"
   ]
  },
  {
   "cell_type": "code",
   "execution_count": null,
   "id": "8769679e-a5d5-403c-b52c-91cb5c831227",
   "metadata": {},
   "outputs": [],
   "source": [
    "# Comparison Case 1 - Steady State Isoviscous - Time Dependent Isoviscous"
   ]
  },
  {
   "cell_type": "code",
   "execution_count": null,
   "id": "8f36d58b-a176-4ce3-80d8-3321dafa6bf0",
   "metadata": {},
   "outputs": [],
   "source": [
    "geom1 = create_sz_geometry(slab, resscale, sztype, io_depth_1, extra_width, \n",
    "                          coast_distance, lc_depth, uc_depth)\n",
    "\n",
    "sz_case1 = SubductionProblem(geom1, A=A, Vs=Vs, sztype=sztype, qs=qs)\n",
    "sz_case1.solve_steadystate_isoviscous()\n",
    "\n",
    "print(\"Steady State Solution:\")\n",
    "plotter_isoB = utils.plot_scalar(sz_case1.T_i, scale=sz_case1.T0, gather=True, cmap='coolwarm', scalar_bar_args={'title': 'Temperature (deg C)'})\n",
    "utils.plot_vector_glyphs(sz_case1.vw_i, plotter=plotter_isoB, factor=0.1, gather=True, color='k', scale=utils.mps_to_mmpyr(sz_case1.v0))\n",
    "utils.plot_vector_glyphs(sz_case1.vs_i, plotter=plotter_isoB, factor=0.1, gather=True, color='k', scale=utils.mps_to_mmpyr(sz_case1.v0))\n",
    "utils.plot_show(plotter_isoB)\n",
    "\n",
    "utils.plot_save(plotter_isoB, output_folder / \"actualsteadystate.png\")\n",
    "\n",
    "for ft in [1, 5, 10, 15, 20, 50, 75, 100]:\n",
    "    sz_case1T = SubductionProblem(geom1, A=A, Vs=Vs, sztype=sztype, qs=qs)\n",
    "    sz_case1T.solve_timedependent_isoviscous(ft, 0.05, theta=0.5)\n",
    "\n",
    "    Tdiff = df.fem.Function(sz_case1.V_T)\n",
    "    Tdiff.x.array[:] = sz_case1.T_i.x.array - sz_case1T.T_i.x.array\n",
    "    plotter_iso = utils.plot_scalar(Tdiff, gather=True, cmap='coolwarm', scalar_bar_args={'title': 'difference'})\n",
    "    plotter_isoA = utils.plot_scalar(sz_case1T.T_i, scale=sz_case1T.T0, gather=True, cmap='coolwarm', scalar_bar_args={'title': 'Temperature (deg C)'})\n",
    "    \n",
    "    utils.plot_vector_glyphs(sz_case1T.vw_i, plotter=plotter_isoA, factor=0.1, gather=True, color='k', scale=utils.mps_to_mmpyr(sz_case1T.v0))\n",
    "    utils.plot_vector_glyphs(sz_case1T.vs_i, plotter=plotter_isoA, factor=0.1, gather=True, color='k', scale=utils.mps_to_mmpyr(sz_case1T.v0))\n",
    "\n",
    "    print(\"Case (Myo): {ft}\".format(ft=ft))\n",
    "    utils.plot_show(plotter_iso) # plot difference\n",
    "    utils.plot_show(plotter_isoA) # plot actual solution\n",
    "    \n",
    "    utils.plot_save(plotter_iso, output_folder / \"case1-{:d}.png\".format(ft,))\n",
    "    utils.plot_save(plotter_isoA, output_folder / \"actual1-{:d}.png\".format(ft,))"
   ]
  },
  {
   "cell_type": "code",
   "execution_count": null,
   "id": "54b652f7-40ff-4052-8e85-da1d17950556",
   "metadata": {},
   "outputs": [],
   "source": [
    "# Comparison Case 2 - Steady State Dislocation Creep - Time Dependent Dislocation Creep"
   ]
  },
  {
   "cell_type": "code",
   "execution_count": null,
   "id": "3f835a25-8459-4b65-be5c-4f14395d118b",
   "metadata": {},
   "outputs": [],
   "source": [
    "geom2 = create_sz_geometry(slab, resscale, sztype, io_depth_1, extra_width, \n",
    "                          coast_distance, lc_depth, uc_depth)\n",
    "\n",
    "sz_case2 = SubductionProblem(geom2, A=A, Vs=Vs, sztype=sztype, qs=qs)\n",
    "sz_case2.solve_steadystate_dislocationcreep()\n",
    "\n",
    "print(\"Steady State Solution:\")\n",
    "plotter_isoB = utils.plot_scalar(sz_case2.T_i, scale=sz_case2.T0, gather=True, cmap='coolwarm', scalar_bar_args={'title': 'Temperature (deg C)', 'bold':True})\n",
    "utils.plot_vector_glyphs(sz_case2.vw_i, plotter=plotter_isoB, factor=0.1, gather=True, color='k', scale=utils.mps_to_mmpyr(sz_case2.v0))\n",
    "utils.plot_vector_glyphs(sz_case2.vs_i, plotter=plotter_isoB, factor=0.1, gather=True, color='k', scale=utils.mps_to_mmpyr(sz_case2.v0))\n",
    "utils.plot_geometry(geom2, plotter=plotter_isoB, color='green', width=2)\n",
    "utils.plot_couplingdepth(slab, plotter=plotter_isoB, render_points_as_spheres=True, point_size=10.0, color='green')\n",
    "utils.plot_show(plotter_isoB)\n",
    "\n",
    "utils.plot_save(plotter_isoB, output_folder / \"actualsteadystate.png\", transparent_background=True)\n",
    "\n",
    "for ft in [1, 5, 20, 50, 100]:\n",
    "    sz_case2T = SubductionProblem(geom2, A=A, Vs=Vs, sztype=sztype, qs=qs)\n",
    "    sz_case2T.solve_timedependent_dislocationcreep(ft, 0.05, theta=0.5, verbosity=1)\n",
    "\n",
    "    Tdiff = df.fem.Function(sz_case2.V_T)\n",
    "    Tdiff.x.array[:] = sz_case2.T_i.x.array - sz_case2T.T_i.x.array\n",
    "    plotter_iso = utils.plot_scalar(Tdiff, gather=True, cmap='coolwarm', scalar_bar_args={'title': 'Temperature difference (deg C)', 'bold':True})\n",
    "    plotter_isoA = utils.plot_scalar(sz_case2T.T_i, scale=sz_case2T.T0, gather=True, cmap='coolwarm', scalar_bar_args={'title': 'Temperature (deg C)', 'bold':True})\n",
    "    \n",
    "    utils.plot_vector_glyphs(sz_case2T.vw_i, plotter=plotter_isoA, factor=0.1, gather=True, color='k', scale=utils.mps_to_mmpyr(sz_case2T.v0))\n",
    "    utils.plot_vector_glyphs(sz_case2T.vs_i, plotter=plotter_isoA, factor=0.1, gather=True, color='k', scale=utils.mps_to_mmpyr(sz_case2T.v0))\n",
    "\n",
    "    \n",
    "    utils.plot_geometry(geom2, plotter=plotter_iso, color='green', width=2)\n",
    "    utils.plot_couplingdepth(slab, plotter=plotter_iso, render_points_as_spheres=True, point_size=10.0, color='green')\n",
    "    utils.plot_geometry(geom2, plotter=plotter_isoA, color='green', width=2)\n",
    "    utils.plot_couplingdepth(slab, plotter=plotter_isoA, render_points_as_spheres=True, point_size=10.0, color='green')\n",
    "\n",
    "    print(\"Case (Myo): {ft}\".format(ft=ft))\n",
    "    utils.plot_show(plotter_iso) # plot difference\n",
    "    utils.plot_show(plotter_isoA) # plot actual solution\n",
    "\n",
    "    utils.plot_save(plotter_iso, output_folder / \"case1-{:d}.png\".format(ft,), transparent_background=True)\n",
    "    utils.plot_save(plotter_isoA, output_folder / \"actual1-{:d}.png\".format(ft,), transparent_background=True)"
   ]
  },
  {
   "cell_type": "code",
   "execution_count": null,
   "id": "0ca74fcc-3d41-4396-ad4e-b56b07a9acff",
   "metadata": {},
   "outputs": [],
   "source": [
    "# Comparison Case 3 - Steady State Isoviscous - Steady State Dislocation Creep"
   ]
  },
  {
   "cell_type": "code",
   "execution_count": null,
   "id": "a127838f-bc37-4a40-8446-69f999847113",
   "metadata": {},
   "outputs": [],
   "source": [
    "geom3 = create_sz_geometry(slab, resscale, sztype, io_depth_1, extra_width, \n",
    "                          coast_distance, lc_depth, uc_depth)\n",
    "\n",
    "sz_case3 = SubductionProblem(geom3, A=A, Vs=Vs, sztype=sztype, qs=qs)\n",
    "sz_case3.solve_steadystate_isoviscous()\n",
    "\n",
    "for ft in [1, 5, 10, 15, 20, 50, 75, 100]:\n",
    "    sz_case3T = SubductionProblem(geom3, A=A, Vs=Vs, sztype=sztype, qs=qs)\n",
    "    sz_case3T.solve_steadystate_dislocationcreep()\n",
    "\n",
    "    Tdiff = df.fem.Function(sz_case3.V_T)\n",
    "    Tdiff.x.array[:] = sz_case3.T_i.x.array - sz_case3T.T_i.x.array\n",
    "    plotter_iso = utils.plot_scalar(Tdiff, gather=True, cmap='coolwarm', scalar_bar_args={'title': 'difference'})\n",
    "    plotter_isoA = utils.plot_scalar(sz_case3T.T_i, scale=sz_case3T.T0, gather=True, cmap='coolwarm', scalar_bar_args={'title': 'Temperature (deg C)'})\n",
    "\n",
    "    utils.plot_vector_glyphs(sz_case3T.vw_i, plotter=plotter_isoA, factor=0.1, gather=True, color='k', scale=utils.mps_to_mmpyr(sz_case3T.v0))\n",
    "    utils.plot_vector_glyphs(sz_case3T.vs_i, plotter=plotter_isoA, factor=0.1, gather=True, color='k', scale=utils.mps_to_mmpyr(sz_case3T.v0))\n",
    "    \n",
    "    utils.plot_show(plotter_iso3)\n",
    "    utils.plot_save(plotter_iso3, output_folder / \"sz_comparisons.png\")"
   ]
  },
  {
   "cell_type": "code",
   "execution_count": null,
   "id": "651ba126-dfdd-424c-91d7-6cba988b7386",
   "metadata": {},
   "outputs": [],
   "source": [
    "# Comparison Case 4 - Time Dependent Isoviscous - Time Dependent Dislocation Creep"
   ]
  },
  {
   "cell_type": "code",
   "execution_count": null,
   "id": "dda85dfd-4ecc-4a5f-86db-e2337f79b594",
   "metadata": {},
   "outputs": [],
   "source": [
    "geom4 = create_sz_geometry(slab, resscale, sztype, io_depth_1, extra_width, \n",
    "                          coast_distance, lc_depth, uc_depth)\n",
    "\n",
    "for ft in [1, 100]:\n",
    "    sz_case4 = SubductionProblem(geom4, A=A, Vs=Vs, sztype=sztype, qs=qs)\n",
    "    sz_case4T = SubductionProblem(geom4, A=A, Vs=Vs, sztype=sztype, qs=qs)\n",
    "    \n",
    "    sz_case4.solve_timedependent_isoviscous(ft, 0.05, theta=0.5)\n",
    "    sz_case4T.solve_timedependent_dislocationcreep(ft, 0.05, theta=0.5)\n",
    "\n",
    "    Tdiff = df.fem.Function(sz_case4.V_T)\n",
    "    Tdiff.x.array[:] = sz_case4.T_i.x.array - sz_case4T.T_i.x.array\n",
    "    plotter_iso = utils.plot_scalar(Tdiff, gather=True, cmap='coolwarm', scalar_bar_args={'title': 'difference'})\n",
    "    plotter_isoA = utils.plot_scalar(sz_case4.T_i, scale=sz_case4.T0, gather=True, cmap='coolwarm', scalar_bar_args={'title': 'Temperature (deg C)'})\n",
    "    plotter_isoB = utils.plot_scalar(sz_case4T.T_i, scale=sz_case4T.T0, gather=True, cmap='coolwarm', scalar_bar_args={'title': 'Temperature (deg C)'})\n",
    "\n",
    "    utils.plot_vector_glyphs(sz_case4.vw_i, plotter=plotter_isoA, factor=0.1, gather=True, color='k', scale=utils.mps_to_mmpyr(sz_case4.v0))\n",
    "    utils.plot_vector_glyphs(sz_case4.vs_i, plotter=plotter_isoA, factor=0.1, gather=True, color='k', scale=utils.mps_to_mmpyr(sz_case4.v0))\n",
    "\n",
    "    utils.plot_vector_glyphs(sz_case4T.vw_i, plotter=plotter_isoB, factor=0.1, gather=True, color='k', scale=utils.mps_to_mmpyr(sz_case4T.v0))\n",
    "    utils.plot_vector_glyphs(sz_case4T.vs_i, plotter=plotter_isoB, factor=0.1, gather=True, color='k', scale=utils.mps_to_mmpyr(sz_case4T.v0))\n",
    "    \n",
    "    print(\"Case (Myo): {ft} Temp Difference:\".format(ft=ft))\n",
    "    utils.plot_show(plotter_iso) # plot difference\n",
    "    print(\"Case (Myo): {ft} Actual Solution, Time Dependent Isoviscous\".format(ft=ft))\n",
    "    utils.plot_show(plotter_isoA) # plot actual solution for time dependent isoviscous\n",
    "    print(\"Case (Myo): {ft} Actual Solution, Time Dependent Dislocation Creep\".format(ft=ft))\n",
    "    utils.plot_show(plotter_isoB) # plot actual solution for time dependent dislocation creep\n",
    "\n",
    "    utils.plot_save(plotter_iso, output_folder / \"case1-{:d}.png\".format(ft,))\n",
    "    utils.plot_save(plotter_isoA, output_folder / \"actual1-{:d}.png\".format(ft,))\n",
    "    utils.plot_save(plotter_isoB, output_folder / \"actualDC-{:d}.png\".format(ft,))"
   ]
  },
  {
   "cell_type": "code",
   "execution_count": null,
   "id": "8f75e893-0622-4ea4-8804-0e5ce668cbc6",
   "metadata": {},
   "outputs": [],
   "source": []
  }
 ],
 "metadata": {
  "kernelspec": {
   "display_name": "Python 3 (ipykernel)",
   "language": "python",
   "name": "python3"
  },
  "language_info": {
   "codemirror_mode": {
    "name": "ipython",
    "version": 3
   },
   "file_extension": ".py",
   "mimetype": "text/x-python",
   "name": "python",
   "nbconvert_exporter": "python",
   "pygments_lexer": "ipython3",
   "version": "3.10.12"
  }
 },
 "nbformat": 4,
 "nbformat_minor": 5
}
