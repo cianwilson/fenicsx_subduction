{
 "cells": [
  {
   "cell_type": "markdown",
   "id": "edf2fb7b-ac53-4d67-8fad-4f94f62adb7d",
   "metadata": {},
   "source": [
    "# Subduction Zone Difference\n",
    "\n",
    "Authors: Cameron Seebeck, Cian Wilson\n",
    "\n",
    "In the following pages we implement a global suite of subduction zone models comparing our steady-state and time-dependent solutions for temperature with a dislocation creep rheology for Stokes.\n",
    "\n",
    "```{admonition} Resolution\n",
    "In all cases the default resolution is low to allow for a quick runtime and smaller website size.  If sufficient computational resources are available set a lower `resscale` to get higher resolutions and results with sufficient accuracy.\n",
    "```"
   ]
  },
  {
   "cell_type": "code",
   "execution_count": null,
   "id": "b86aef4f-347c-4080-84b6-f0d2c351e174",
   "metadata": {},
   "outputs": [],
   "source": []
  }
 ],
 "metadata": {
  "kernelspec": {
   "display_name": "Python 3 (ipykernel)",
   "language": "python",
   "name": "python3"
  },
  "language_info": {
   "codemirror_mode": {
    "name": "ipython",
    "version": 3
   },
   "file_extension": ".py",
   "mimetype": "text/x-python",
   "name": "python",
   "nbconvert_exporter": "python",
   "pygments_lexer": "ipython3",
   "version": "3.10.12"
  }
 },
 "nbformat": 4,
 "nbformat_minor": 5
}
