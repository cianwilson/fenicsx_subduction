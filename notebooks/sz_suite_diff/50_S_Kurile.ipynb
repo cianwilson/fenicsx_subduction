{
 "cells": [
  {
   "cell_type": "markdown",
   "id": "edf2fb7b-ac53-4d67-8fad-4f94f62adb7d",
   "metadata": {},
   "source": [
    "# 50 S Kurile\n",
    "\n",
    "Authors: Cameron Seebeck, Kidus Teshome, Cian Wilson"
   ]
  },
  {
   "cell_type": "markdown",
   "id": "c72ce8e7-e84b-4f27-98d6-2b94abe3e60f",
   "metadata": {},
   "source": [
    "## Steady state implementation"
   ]
  },
  {
   "cell_type": "markdown",
   "id": "6e34c38f-5d19-4741-a5f2-03db72ace774",
   "metadata": {},
   "source": [
    "### Preamble"
   ]
  },
  {
   "cell_type": "markdown",
   "id": "bd71100f-6a94-4cbc-9d19-6be4947269db",
   "metadata": {},
   "source": [
    "Set some path information."
   ]
  },
  {
   "cell_type": "code",
   "execution_count": null,
   "id": "a0a18160-c2ea-4c8b-b7dd-aad8ffc0f93c",
   "metadata": {},
   "outputs": [],
   "source": [
    "import sys, os\n",
    "basedir = ''\n",
    "if \"__file__\" in globals(): basedir = os.path.dirname(__file__)\n",
    "sys.path.append(os.path.join(basedir, os.path.pardir))\n",
    "sys.path.append(os.path.join(basedir, os.path.pardir, os.path.pardir, 'python'))"
   ]
  },
  {
   "cell_type": "markdown",
   "id": "0d485e8c-03d6-4828-868b-815f5b87647b",
   "metadata": {},
   "source": [
    "Loading everything we need from `sz_problem` and also set our default plotting and output preferences."
   ]
  },
  {
   "cell_type": "code",
   "execution_count": null,
   "id": "ab44bc2a-31ac-45b3-9d32-165412442cd1",
   "metadata": {},
   "outputs": [],
   "source": [
    "import utils\n",
    "from sz_base import allsz_params\n",
    "from sz_slab import create_slab, plot_slab\n",
    "from sz_geometry import create_sz_geometry\n",
    "from sz_problem import SubductionProblem\n",
    "import numpy as np\n",
    "import dolfinx as df\n",
    "import pyvista as pv\n",
    "if __name__ == \"__main__\" and \"__file__\" in globals():\n",
    "    pv.OFF_SCREEN = True\n",
    "import pathlib\n",
    "output_folder = pathlib.Path(os.path.join(basedir, \"output\"))\n",
    "output_folder.mkdir(exist_ok=True, parents=True)"
   ]
  },
  {
   "cell_type": "markdown",
   "id": "02e4f30c-6b58-48dd-9c04-5022f9519635",
   "metadata": {},
   "source": [
    "### Parameters"
   ]
  },
  {
   "cell_type": "markdown",
   "id": "d4aa0164-4000-4311-b600-77501223c4df",
   "metadata": {},
   "source": [
    "We first select the name and resolution scale, `resscale` of the model.\n",
    "\n",
    "```{admonition} Resolution\n",
    "By default the resolution is low to allow for a quick runtime and smaller website size.  If sufficient computational resources are available set a lower `resscale` to get higher resolutions and results with sufficient accuracy.\n",
    "```\n"
   ]
  },
  {
   "cell_type": "code",
   "execution_count": null,
   "id": "946b6f81-6a3e-4494-b6c5-1bb3bbe400c8",
   "metadata": {},
   "outputs": [],
   "source": [
    "name = \"50_S_Kurile\"\n",
    "resscale = 3.0\n",
    "cfl      = 3.0"
   ]
  },
  {
   "cell_type": "markdown",
   "id": "46a62851-8ef7-4773-8800-ca2ec15dde5b",
   "metadata": {},
   "source": [
    "Then load the remaining parameters from the global suite."
   ]
  },
  {
   "cell_type": "code",
   "execution_count": null,
   "id": "330be131-1e35-4bed-85a6-f6652791fac7",
   "metadata": {},
   "outputs": [],
   "source": [
    "szdict = allsz_params[name]\n",
    "print(\"{}:\".format(name))\n",
    "print(\"{:<20} {:<10}\".format('Key','Value'))\n",
    "print(\"-\"*85)\n",
    "for k, v in allsz_params[name].items():\n",
    "    if v is not None and k not in ['z0', 'z15']: print(\"{:<20} {}\".format(k, v))"
   ]
  },
  {
   "cell_type": "markdown",
   "id": "c63ccf05-4716-4c43-a392-b7618ca52b29",
   "metadata": {},
   "source": [
    "### Setup"
   ]
  },
  {
   "cell_type": "markdown",
   "id": "febc0ffe-cd65-4b35-94cc-56f8f401972a",
   "metadata": {},
   "source": [
    "Setup a slab."
   ]
  },
  {
   "cell_type": "code",
   "execution_count": null,
   "id": "f5af1994-fb1a-461f-8299-865ac2dccbbb",
   "metadata": {},
   "outputs": [],
   "source": [
    "slab = create_slab(szdict['xs'], szdict['ys'], resscale, szdict['lc_depth'])"
   ]
  },
  {
   "cell_type": "markdown",
   "id": "dcffbab7-c8d8-419a-a24a-69c78c79e5b5",
   "metadata": {},
   "source": [
    "Create the subduction zome geometry around the slab."
   ]
  },
  {
   "cell_type": "code",
   "execution_count": null,
   "id": "fe6670aa-5bc4-4dc0-aad2-be3afbf4d1a6",
   "metadata": {},
   "outputs": [],
   "source": [
    "geom = create_sz_geometry(slab, resscale, szdict['sztype'], szdict['io_depth'], szdict['extra_width'], \n",
    "                             szdict['coast_distance'], szdict['lc_depth'], szdict['uc_depth'])"
   ]
  },
  {
   "cell_type": "markdown",
   "id": "7359d454-d54b-4996-a2c5-c8606169e821",
   "metadata": {},
   "source": [
    "### Solve steady state"
   ]
  },
  {
   "cell_type": "markdown",
   "id": "60efe92f-4595-4029-a1b7-c9deabf1ed0f",
   "metadata": {},
   "source": [
    "Solve using a dislocation creep rheology and assuming a steady state."
   ]
  },
  {
   "cell_type": "code",
   "execution_count": null,
   "id": "c0116ae6-d47f-4bef-a0d5-efca3c42c20a",
   "metadata": {},
   "outputs": [],
   "source": [
    "szss = SubductionProblem(geom, **szdict)\n",
    "szss.solve_steadystate_dislocationcreep()"
   ]
  },
  {
   "cell_type": "markdown",
   "id": "aff5b041-fb04-4204-acbd-96feef460830",
   "metadata": {},
   "source": [
    "### Plot"
   ]
  },
  {
   "cell_type": "markdown",
   "id": "88d69eb5-ccee-429a-a623-088a075a6954",
   "metadata": {},
   "source": [
    "Plot the solution."
   ]
  },
  {
   "cell_type": "code",
   "execution_count": null,
   "id": "0f820a3e-50e5-4b70-8961-54a00a0229a9",
   "metadata": {},
   "outputs": [],
   "source": [
    "plotter = pv.Plotter()\n",
    "utils.plot_scalar(szss.T_i, plotter=plotter, scale=szss.T0, gather=True, cmap='coolwarm', scalar_bar_args={'title': 'Temperature (deg C)', 'bold':True})\n",
    "utils.plot_vector_glyphs(szss.vw_i, plotter=plotter, gather=True, factor=0.1, color='k', scale=utils.mps_to_mmpyr(szss.v0))\n",
    "utils.plot_vector_glyphs(szss.vs_i, plotter=plotter, gather=True, factor=0.1, color='k', scale=utils.mps_to_mmpyr(szss.v0))\n",
    "utils.plot_geometry(geom, plotter=plotter, color='green', width=2)\n",
    "utils.plot_couplingdepth(slab, plotter=plotter, render_points_as_spheres=True, point_size=10.0, color='green')\n",
    "utils.plot_show(plotter)\n",
    "utils.plot_save(plotter, output_folder / \"{}_ss_solution_resscale_{:.2f}.png\".format(name, resscale))"
   ]
  },
  {
   "cell_type": "markdown",
   "id": "12ea1ed3-6a09-49f5-8041-ecc01f123865",
   "metadata": {},
   "source": [
    "### Solve time-dependent"
   ]
  },
  {
   "cell_type": "markdown",
   "id": "67d44bdc-35a9-4615-9853-810e16e001a2",
   "metadata": {},
   "source": [
    "Solve using a dislocation creep rheology."
   ]
  },
  {
   "cell_type": "code",
   "execution_count": null,
   "id": "164247b6-92ae-4020-9925-9a851fca4797",
   "metadata": {},
   "outputs": [],
   "source": [
    "sztd = SubductionProblem(geom, **szdict)\n",
    "\n",
    "fps = 5\n",
    "plotter = pv.Plotter(notebook=False, off_screen=True)\n",
    "utils.plot_scalar(sztd.T_i, plotter=plotter, scale=sztd.T0, gather=True, cmap='coolwarm', clim=[0.0, sztd.Tm*sztd.T0], scalar_bar_args={'title': 'Temperature (deg C)', 'bold':True})\n",
    "utils.plot_geometry(geom, plotter=plotter, color='green', width=2)\n",
    "utils.plot_couplingdepth(slab, plotter=plotter, render_points_as_spheres=True, point_size=10.0, color='green')\n",
    "plotter.open_gif( str(output_folder / \"{}_td_solution_resscale_{:.2f}_cfl_{:.2f}.gif\".format(name, resscale, cfl,)), fps=fps)\n",
    "\n",
    "# Select the timestep based on the approximate target Courant number\n",
    "dt = cfl*resscale/szdict['Vs']\n",
    "# Reduce the timestep to get an integer number of timesteps\n",
    "dt = szdict['As']/np.ceil(szdict['As']/dt)\n",
    "sztd.solve_timedependent_dislocationcreep(szdict['As'], dt, theta=0.5, rtol=1.e-1, verbosity=1, plotter=plotter)\n",
    "\n",
    "plotter.close()"
   ]
  },
  {
   "cell_type": "markdown",
   "id": "b9ea29fb-db7e-4201-ad7d-faba70986b97",
   "metadata": {},
   "source": [
    "### Plot"
   ]
  },
  {
   "cell_type": "markdown",
   "id": "1006933e-4051-466a-a0d1-092fe0bd0021",
   "metadata": {},
   "source": [
    "Plot the solution."
   ]
  },
  {
   "cell_type": "code",
   "execution_count": null,
   "id": "6527ce1a-71e4-4391-adab-1eea520eaaec",
   "metadata": {},
   "outputs": [],
   "source": [
    "plotter = utils.plot_scalar(sztd.T_i, scale=sztd.T0, gather=True, cmap='coolwarm', scalar_bar_args={'title': 'Temperature (deg C)', 'bold':True})\n",
    "utils.plot_vector_glyphs(sztd.vw_i, plotter=plotter, gather=True, factor=0.1, color='k', scale=utils.mps_to_mmpyr(sztd.v0))\n",
    "utils.plot_vector_glyphs(sztd.vs_i, plotter=plotter, gather=True, factor=0.1, color='k', scale=utils.mps_to_mmpyr(sztd.v0))\n",
    "utils.plot_geometry(geom, plotter=plotter, color='green', width=2)\n",
    "utils.plot_couplingdepth(slab, plotter=plotter, render_points_as_spheres=True, point_size=10.0, color='green')\n",
    "utils.plot_show(plotter)\n",
    "utils.plot_save(plotter, output_folder / \"{}_td_solution_resscale_{:.2f}_cfl_{:.2f}.png\".format(name, resscale, cfl,))"
   ]
  },
  {
   "cell_type": "markdown",
   "id": "f27fedbb-010f-4284-8bec-d1d2c74a1aa3",
   "metadata": {},
   "source": [
    "## Comparison"
   ]
  },
  {
   "cell_type": "code",
   "execution_count": null,
   "id": "54a2636b-33ba-4c16-bd25-bace8a84095f",
   "metadata": {},
   "outputs": [],
   "source": [
    "T_diff = df.fem.Function(sztd.V_T)\n",
    "T_diff.x.array[:] = szss.T_i.x.array - sztd.T_i.x.array\n",
    "T_diff.name = 'T'"
   ]
  },
  {
   "cell_type": "code",
   "execution_count": null,
   "id": "9d8f21a5-f486-4feb-8985-692373ffd1e0",
   "metadata": {},
   "outputs": [],
   "source": [
    "plotter = utils.plot_scalar(T_diff, scale=szss.T0, gather=True, cmap='coolwarm', scalar_bar_args={'title': 'Temperature difference (deg C)', 'bold':True})\n",
    "utils.plot_geometry(geom, plotter=plotter, color='green', width=2)\n",
    "utils.plot_couplingdepth(slab, plotter=plotter, render_points_as_spheres=True, point_size=10.0, color='green')\n",
    "utils.plot_show(plotter)\n",
    "utils.plot_save(plotter, output_folder / \"{}_ss-td_solution_resscale_{:.2f}_cfl_{:.2f}.png\".format(name, resscale, cfl,))"
   ]
  },
  {
   "cell_type": "code",
   "execution_count": null,
   "id": "81a9fc5f-323c-41c0-8ff0-d3f6bc7205d6",
   "metadata": {},
   "outputs": [],
   "source": []
  }
 ],
 "metadata": {
  "kernelspec": {
   "display_name": "Python 3 (ipykernel)",
   "language": "python",
   "name": "python3"
  },
  "language_info": {
   "codemirror_mode": {
    "name": "ipython",
    "version": 3
   },
   "file_extension": ".py",
   "mimetype": "text/x-python",
   "name": "python",
   "nbconvert_exporter": "python",
   "pygments_lexer": "ipython3",
   "version": "3.10.12"
  }
 },
 "nbformat": 4,
 "nbformat_minor": 5
}
